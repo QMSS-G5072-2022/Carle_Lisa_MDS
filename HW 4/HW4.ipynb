{
 "cells": [
  {
   "cell_type": "markdown",
   "id": "c90027cf",
   "metadata": {},
   "source": [
    "## 1a, 1b"
   ]
  },
  {
   "cell_type": "code",
   "execution_count": 17,
   "id": "0eae8214",
   "metadata": {},
   "outputs": [],
   "source": [
    "class Book():\n",
    "###1a - Creating Book class\n",
    "    def __init__(self, title=\"\", author=\"\", genre=\"\", grade_level=int(), pages=int()):\n",
    "        self.title = title\n",
    "        self.author = author\n",
    "        self.genre =  genre\n",
    "        self.grade_level = str(grade_level)\n",
    "        self.pages = pages\n",
    "###1b - Adding str method\n",
    "    def __str__(self):\n",
    "        return \"The book \" + self.title + \" by \" + self.author + \" is a \" + self.genre + \" book for \" + self.grade_level + \" grade.\""
   ]
  },
  {
   "cell_type": "markdown",
   "id": "c2711da2",
   "metadata": {},
   "source": [
    "## 1c"
   ]
  },
  {
   "cell_type": "code",
   "execution_count": 22,
   "id": "09daefb2",
   "metadata": {},
   "outputs": [],
   "source": [
    "### Books list\n",
    "allbooks = [\n",
    "    {\n",
    "        \"title\": \"The Hunger Games\",\n",
    "        \"author\": \"Suzanne Collins\",\n",
    "        \"genre\": \"Science Fiction\",\n",
    "        \"grade_level\": 7,\n",
    "        \"pages\": 374\n",
    "    },\n",
    "    {\n",
    "        \"title\": \"Harry Potter and the Sorcerer's Stone\",\n",
    "        \"author\": \"J.K. Rowling\",\n",
    "        \"genre\": \"Fantasy\",\n",
    "        \"grade_level\": 5,\n",
    "        \"pages\": 309\n",
    "    },\n",
    "    {\n",
    "        \"title\": \"To Kill a Mockingbird\",\n",
    "        \"author\": \"Harper Lee\",\n",
    "        \"genre\": \"Historical Fiction\",\n",
    "        \"grade_level\": 8,\n",
    "        \"pages\": 281\n",
    "    },\n",
    "    {\n",
    "        \"title\": \"Pride and Prejudice\",\n",
    "        \"author\": \"Jane Austen\",\n",
    "        \"genre\": \"Historical Fiction\",\n",
    "        \"grade_level\": 8,\n",
    "        \"pages\": 279\n",
    "    },\n",
    "    {\n",
    "        \"title\": \"Twilight\",\n",
    "        \"author\": \"Stephenie Meyer\",\n",
    "        \"genre\": \"Fantasy\",\n",
    "        \"grade_level\": 9,\n",
    "        \"pages\": 501\n",
    "    },\n",
    "    {\n",
    "        \"title\": \"The Great Gatsby\",\n",
    "        \"author\": \"F. Scott Fitzgerald\",\n",
    "        \"genre\": \"Historical Fiction\",\n",
    "        \"grade_level\": 10,\n",
    "        \"pages\": 180\n",
    "    },\n",
    "    {\n",
    "        \"title\": \"The Fault in Our Stars\",\n",
    "        \"author\": \"John Green\",\n",
    "        \"genre\": \"Science Fiction\",\n",
    "        \"grade_level\": 9,\n",
    "        \"pages\": 313\n",
    "    },\n",
    "    {\n",
    "        \"title\": \"The Book Thief\",\n",
    "        \"author\": \"Markus Zusak\",\n",
    "        \"genre\": \"Historical Fiction\",\n",
    "        \"grade_level\": 8,\n",
    "        \"pages\": 552\n",
    "    },\n",
    "    {\n",
    "        \"title\": \"The Hobbit\",\n",
    "        \"author\": \"J.R.R. Tolkien\",\n",
    "        \"genre\": \"Fantasy\",\n",
    "        \"grade_level\": 7,\n",
    "        \"pages\": 310\n",
    "    },\n",
    "    {\n",
    "        \"title\": \"The Catcher in the Rye\",\n",
    "        \"author\": \"J.D. Salinger\",\n",
    "        \"genre\": \"Historical Fiction\",\n",
    "        \"grade_level\": 10,\n",
    "        \"pages\": 277\n",
    "    }\n",
    "]"
   ]
  },
  {
   "cell_type": "code",
   "execution_count": 28,
   "id": "7923729e",
   "metadata": {},
   "outputs": [],
   "source": [
    "### Initializing 10 Book objects\n",
    "book_list=[]\n",
    "for bookinfo in allbooks:\n",
    "    books=(Book(bookinfo['title'], bookinfo['author'], bookinfo['genre'], bookinfo['grade_level'], bookinfo['pages']))\n",
    "    book_list.append(books)"
   ]
  },
  {
   "cell_type": "markdown",
   "id": "59237240",
   "metadata": {},
   "source": [
    "## 1d"
   ]
  },
  {
   "cell_type": "code",
   "execution_count": 29,
   "id": "a6a0cec3",
   "metadata": {},
   "outputs": [
    {
     "name": "stdout",
     "output_type": "stream",
     "text": [
      "[<__main__.Book object at 0x7fbbc9b3e460>, <__main__.Book object at 0x7fbbc9b3e070>, <__main__.Book object at 0x7fbbc9e9ea90>, <__main__.Book object at 0x7fbbc9e9ed60>, <__main__.Book object at 0x7fbbc9e73fa0>, <__main__.Book object at 0x7fbbc9e73c70>, <__main__.Book object at 0x7fbbc9e736a0>, <__main__.Book object at 0x7fbbc9b76b50>, <__main__.Book object at 0x7fbbc9b761c0>, <__main__.Book object at 0x7fbbc9b76bb0>]\n"
     ]
    }
   ],
   "source": [
    "###print Book objects\n",
    "print(book_list)"
   ]
  },
  {
   "cell_type": "code",
   "execution_count": 6,
   "id": "0b31094e",
   "metadata": {},
   "outputs": [
    {
     "name": "stdout",
     "output_type": "stream",
     "text": [
      "The book The Hunger Games by Suzanne Collins is a Science Fiction book for 7 grade.\n",
      "The book Twilight by Stephenie Meyer is a Fantasy book for 9 grade.\n"
     ]
    }
   ],
   "source": [
    "###print string representation of two Book objects\n",
    "print(book_list[0])\n",
    "print(book_list[4])"
   ]
  },
  {
   "cell_type": "markdown",
   "id": "9781ced9",
   "metadata": {},
   "source": [
    "## 2"
   ]
  },
  {
   "cell_type": "code",
   "execution_count": 59,
   "id": "0d9a0b49",
   "metadata": {},
   "outputs": [],
   "source": [
    "###2a Creating library class\n",
    "class Library(Book):\n",
    "    def __init__(self, obj_list):\n",
    "        self.librarylist = obj_list\n",
    "    def add(self, Book):\n",
    "        self.librarylist.append(Book)\n",
    "###2b adding print method to the library class        \n",
    "    def __str__(self):\n",
    "        temp = \"\"\n",
    "        for Book in self.librarylist:\n",
    "            temp= temp + str(Book) + \"\\n\"\n",
    "        return temp\n",
    "###2c specific genre method\n",
    "    def genre_books(self, genre=\"\"):\n",
    "        genre_list=[]\n",
    "        for Book in self.librarylist:\n",
    "            if genre in Book.genre:\n",
    "                genre_list.append(Book.title)\n",
    "        return(genre_list)\n",
    "###2d specific grade level method\n",
    "    def grade_books(self, grade_levels=[]):\n",
    "        grade_level_list=[]\n",
    "        for Book in self.librarylist:\n",
    "            for level in grade_levels:\n",
    "                if str(level) in Book.grade_level:\n",
    "                    grade_level_list.append(Book.title)\n",
    "        return(grade_level_list)\n",
    "###2e combining methods\n",
    "    def recommend_books(self, genre=\"Historical Fiction\", grade_level= [7,8], max_pages=552):\n",
    "        recommend_books_list=[]\n",
    "        for Book in self.librarylist:\n",
    "            for grade in grade_level:\n",
    "                if (Book.genre in genre or Book.genre==None) and (Book.grade_level in str(grade) or Book.grade_level==None) and Book.pages <= max_pages:\n",
    "                    recommend_books_list.append(Book.title)\n",
    "        return(recommend_books_list)\n"
   ]
  },
  {
   "cell_type": "code",
   "execution_count": 60,
   "id": "b87e9cd9",
   "metadata": {},
   "outputs": [
    {
     "name": "stdout",
     "output_type": "stream",
     "text": [
      "['To Kill a Mockingbird', 'Pride and Prejudice', 'The Great Gatsby', 'The Book Thief', 'The Catcher in the Rye']\n"
     ]
    }
   ],
   "source": [
    "###2c Historical Fiction genre\n",
    "test=Library(book_list)\n",
    "print(test.genre_books(\"Historical Fiction\"))"
   ]
  },
  {
   "cell_type": "code",
   "execution_count": 61,
   "id": "0c3b272e",
   "metadata": {},
   "outputs": [
    {
     "name": "stdout",
     "output_type": "stream",
     "text": [
      "['The Hunger Games', 'To Kill a Mockingbird', 'Pride and Prejudice', 'The Book Thief', 'The Hobbit']\n"
     ]
    }
   ],
   "source": [
    "###2d Select books fitting grade levels\n",
    "print(test.grade_books([7,8]))"
   ]
  },
  {
   "cell_type": "code",
   "execution_count": 62,
   "id": "768a7659",
   "metadata": {},
   "outputs": [
    {
     "name": "stdout",
     "output_type": "stream",
     "text": [
      "['To Kill a Mockingbird', 'Pride and Prejudice', 'The Great Gatsby', 'The Catcher in the Rye']\n"
     ]
    }
   ],
   "source": [
    "###2e Calling combined method\n",
    "print(test.recommend_books(grade_level=[8,9,10], max_pages=300))\n",
    "            "
   ]
  },
  {
   "cell_type": "code",
   "execution_count": null,
   "id": "393cedaa",
   "metadata": {},
   "outputs": [],
   "source": []
  }
 ],
 "metadata": {
  "kernelspec": {
   "display_name": "Python 3 (ipykernel)",
   "language": "python",
   "name": "python3"
  },
  "language_info": {
   "codemirror_mode": {
    "name": "ipython",
    "version": 3
   },
   "file_extension": ".py",
   "mimetype": "text/x-python",
   "name": "python",
   "nbconvert_exporter": "python",
   "pygments_lexer": "ipython3",
   "version": "3.8.3"
  }
 },
 "nbformat": 4,
 "nbformat_minor": 5
}

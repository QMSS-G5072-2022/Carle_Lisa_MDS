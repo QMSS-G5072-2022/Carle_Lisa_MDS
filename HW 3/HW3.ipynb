{
 "cells": [
  {
   "cell_type": "markdown",
   "id": "5c9eefc7",
   "metadata": {},
   "source": [
    "## 1. Cost of Translation\n",
    "### 1a. "
   ]
  },
  {
   "cell_type": "code",
   "execution_count": 1,
   "id": "8c34adec",
   "metadata": {},
   "outputs": [
    {
     "name": "stdout",
     "output_type": "stream",
     "text": [
      "50.0\n"
     ]
    }
   ],
   "source": [
    "###standard function\n",
    "def standard(num_of_words, rush):\n",
    "    if rush == True:\n",
    "        return ((.05)*num_of_words)*1.5\n",
    "    else:\n",
    "        return (.05 * num_of_words)\n",
    "\n",
    "###certified function\n",
    "def certified(num_of_words, rush):\n",
    "    if rush == True:\n",
    "        return ((.10)*num_of_words)*1.5\n",
    "    else:\n",
    "        return (.10 * num_of_words)\n",
    "    \n",
    "###notarized function\n",
    "def notarized(num_of_words, rush):\n",
    "    if rush == True:\n",
    "        return ((.12)*num_of_words)*1.5\n",
    "    else:\n",
    "        return (.12 * num_of_words)\n",
    "    \n",
    "    \n",
    "###cost_of_translation function\n",
    "def cost_of_translation(num_of_words, type ='standard', rush = False):\n",
    "    if type == 'standard':\n",
    "        return standard(num_of_words, rush)\n",
    "    if type == 'certified':\n",
    "        return certified(num_of_words, rush)\n",
    "    if type == 'notarized':\n",
    "        return notarized(num_of_words, rush)\n",
    "    \n",
    "###function output for standard document of 1000 words, no rush\n",
    "cost= cost_of_translation(1000, 'standard')\n",
    "print(cost)\n",
    "    "
   ]
  },
  {
   "cell_type": "markdown",
   "id": "30e7def0",
   "metadata": {},
   "source": [
    "### 1b."
   ]
  },
  {
   "cell_type": "code",
   "execution_count": 2,
   "id": "c278ff2a",
   "metadata": {},
   "outputs": [
    {
     "name": "stdout",
     "output_type": "stream",
     "text": [
      "5.0\n"
     ]
    }
   ],
   "source": [
    "### sales tax function\n",
    "def sales_tax(num_of_words, type, rush=False, tax_rate = .10):\n",
    "    return (cost_of_translation(num_of_words, type, rush)*tax_rate)\n",
    "\n",
    "tax= sales_tax(1000, 'standard', False)\n",
    "print(tax)"
   ]
  },
  {
   "cell_type": "markdown",
   "id": "01d92a81",
   "metadata": {},
   "source": [
    "### 1c."
   ]
  },
  {
   "cell_type": "code",
   "execution_count": 3,
   "id": "1be7a3be",
   "metadata": {},
   "outputs": [
    {
     "name": "stdout",
     "output_type": "stream",
     "text": [
      "0\n"
     ]
    }
   ],
   "source": [
    "### sales tax notary modification\n",
    "def sales_tax_notary(num_of_words, type='standard', rush=False, tax_rate=.10):\n",
    "    if type =='notarized':\n",
    "        return 0\n",
    "    else:\n",
    "        return (cost_of_translation(num_of_words, type, rush)*tax_rate)\n",
    "    \n",
    "notarized_tax=sales_tax_notary(1000, 'notarized')\n",
    "print(notarized_tax)"
   ]
  },
  {
   "cell_type": "markdown",
   "id": "eb473792",
   "metadata": {},
   "source": [
    "### 1d."
   ]
  },
  {
   "cell_type": "code",
   "execution_count": 4,
   "id": "abfe96e8",
   "metadata": {},
   "outputs": [
    {
     "name": "stdout",
     "output_type": "stream",
     "text": [
      "Number of Words: 1000\n",
      "Type of translation: notarized\n",
      "Rush Order: True\n",
      "Rate per word: 0.12\n",
      "------------------------\n",
      "Cost of Translation: 180.0\n",
      "Sales Tax: 0\n",
      "------------------------\n",
      "Total cost: 180.0\n"
     ]
    }
   ],
   "source": [
    "### combined functions\n",
    "standard_rate=.05\n",
    "certified_rate=.10\n",
    "notarized_rate=.12\n",
    "\n",
    "def translation_calculator(num_of_words, **kwargs):\n",
    "    total_cost= (cost_of_translation(num_of_words, **kwargs))+ (sales_tax_notary(num_of_words, **kwargs))\n",
    "    print(\"Number of Words: \"+str(num_of_words))\n",
    "    print(\"Type of translation: \" + str(kwargs.get('type')))\n",
    "    print(\"Rush Order: \" + str(kwargs.get('rush')))\n",
    "    if kwargs.get('type')=='standard':\n",
    "        print(\"Rate per word: \" + str(standard_rate))\n",
    "    if kwargs.get('type')=='certified':\n",
    "        print(\"Rate per word: \" + str(certified_rate))\n",
    "    if kwargs.get('type')=='notarized':\n",
    "        print(\"Rate per word: \" + str(notarized_rate))\n",
    "    print('------------------------')    \n",
    "    print(\"Cost of Translation: \" + str(cost_of_translation(num_of_words, **kwargs)))\n",
    "    print(\"Sales Tax: \" + str(sales_tax_notary(num_of_words, **kwargs)))\n",
    "    print('------------------------')\n",
    "    print(\"Total cost: \" + str(total_cost))\n",
    "\n",
    "    \n",
    "###Calling Function          \n",
    "translation_calculator(1000, type='notarized', rush=True)"
   ]
  },
  {
   "cell_type": "markdown",
   "id": "4a2e1953",
   "metadata": {},
   "source": [
    "### 2a."
   ]
  },
  {
   "cell_type": "code",
   "execution_count": 5,
   "id": "3ea10537",
   "metadata": {},
   "outputs": [],
   "source": [
    "###Adding assertions\n",
    "def translation_calculator(num_of_words, **kwargs):\n",
    "    assert num_of_words > 0, \"The number of words has to be over 0\"\n",
    "    assert type == 'standard' or type == 'certified' or type == 'notarized', \\\n",
    "    \"The type of translation can only be Standard, Certified, or Notarized\"\n",
    "    total_cost= (cost_of_translation(num_of_words, **kwargs))+ (sales_tax_notary(num_of_words, **kwargs))\n",
    "    print(\"Number of Words: \"+str(num_of_words))\n",
    "    print(\"Type of translation: \" + str(kwargs.get('type')))\n",
    "    print(\"Rush Order: \" + str(kwargs.get('rush')))\n",
    "    if kwargs.get('type')=='standard':\n",
    "        print(\"Rate per word: \" + str(standard_rate))\n",
    "    if kwargs.get('type')=='certified':\n",
    "        print(\"Rate per word: \" + str(certified_rate))\n",
    "    if kwargs.get('type')=='notarized':\n",
    "        print(\"Rate per word: \" + str(notarized_rate))\n",
    "    print('------------------------')    \n",
    "    print(\"Cost of Translation: \" + str(cost_of_translation(num_of_words, **kwargs)))\n",
    "    print(\"Sales Tax: \" + str(sales_tax_notary(num_of_words, **kwargs)))\n",
    "    print('------------------------')\n",
    "    print(\"Total cost: \" + str(total_cost))"
   ]
  },
  {
   "cell_type": "code",
   "execution_count": 6,
   "id": "68f7e3ea",
   "metadata": {},
   "outputs": [
    {
     "ename": "AssertionError",
     "evalue": "The number of words has to be over 0",
     "output_type": "error",
     "traceback": [
      "\u001b[0;31m---------------------------------------------------------------------------\u001b[0m",
      "\u001b[0;31mAssertionError\u001b[0m                            Traceback (most recent call last)",
      "Cell \u001b[0;32mIn [6], line 2\u001b[0m\n\u001b[1;32m      1\u001b[0m \u001b[38;5;66;03m### Calling assertion order pt1\u001b[39;00m\n\u001b[0;32m----> 2\u001b[0m \u001b[43mtranslation_calculator\u001b[49m\u001b[43m(\u001b[49m\u001b[38;5;241;43m0\u001b[39;49m\u001b[43m)\u001b[49m\n",
      "Cell \u001b[0;32mIn [5], line 3\u001b[0m, in \u001b[0;36mtranslation_calculator\u001b[0;34m(num_of_words, **kwargs)\u001b[0m\n\u001b[1;32m      2\u001b[0m \u001b[38;5;28;01mdef\u001b[39;00m \u001b[38;5;21mtranslation_calculator\u001b[39m(num_of_words, \u001b[38;5;241m*\u001b[39m\u001b[38;5;241m*\u001b[39mkwargs):\n\u001b[0;32m----> 3\u001b[0m     \u001b[38;5;28;01massert\u001b[39;00m num_of_words \u001b[38;5;241m>\u001b[39m \u001b[38;5;241m0\u001b[39m, \u001b[38;5;124m\"\u001b[39m\u001b[38;5;124mThe number of words has to be over 0\u001b[39m\u001b[38;5;124m\"\u001b[39m\n\u001b[1;32m      4\u001b[0m     \u001b[38;5;28;01massert\u001b[39;00m \u001b[38;5;28mtype\u001b[39m \u001b[38;5;241m==\u001b[39m \u001b[38;5;124m'\u001b[39m\u001b[38;5;124mstandard\u001b[39m\u001b[38;5;124m'\u001b[39m \u001b[38;5;129;01mor\u001b[39;00m \u001b[38;5;28mtype\u001b[39m \u001b[38;5;241m==\u001b[39m \u001b[38;5;124m'\u001b[39m\u001b[38;5;124mcertified\u001b[39m\u001b[38;5;124m'\u001b[39m \u001b[38;5;129;01mor\u001b[39;00m \u001b[38;5;28mtype\u001b[39m \u001b[38;5;241m==\u001b[39m \u001b[38;5;124m'\u001b[39m\u001b[38;5;124mnotarized\u001b[39m\u001b[38;5;124m'\u001b[39m, \\\n\u001b[1;32m      5\u001b[0m     \u001b[38;5;124m\"\u001b[39m\u001b[38;5;124mThe type of translation can only be Standard, Certified, or Notarized\u001b[39m\u001b[38;5;124m\"\u001b[39m\n\u001b[1;32m      6\u001b[0m     total_cost\u001b[38;5;241m=\u001b[39m (cost_of_translation(num_of_words, \u001b[38;5;241m*\u001b[39m\u001b[38;5;241m*\u001b[39mkwargs))\u001b[38;5;241m+\u001b[39m (sales_tax_notary(num_of_words, \u001b[38;5;241m*\u001b[39m\u001b[38;5;241m*\u001b[39mkwargs))\n",
      "\u001b[0;31mAssertionError\u001b[0m: The number of words has to be over 0"
     ]
    }
   ],
   "source": [
    "### Calling assertion order pt1\n",
    "translation_calculator(0)"
   ]
  },
  {
   "cell_type": "code",
   "execution_count": 7,
   "id": "117cf781",
   "metadata": {},
   "outputs": [
    {
     "ename": "AssertionError",
     "evalue": "The type of translation can only be Standard, Certified, or Notarized",
     "output_type": "error",
     "traceback": [
      "\u001b[0;31m---------------------------------------------------------------------------\u001b[0m",
      "\u001b[0;31mAssertionError\u001b[0m                            Traceback (most recent call last)",
      "Cell \u001b[0;32mIn [7], line 2\u001b[0m\n\u001b[1;32m      1\u001b[0m \u001b[38;5;66;03m###Calling assertion order pt2\u001b[39;00m\n\u001b[0;32m----> 2\u001b[0m \u001b[43mtranslation_calculator\u001b[49m\u001b[43m(\u001b[49m\u001b[38;5;241;43m1000\u001b[39;49m\u001b[43m,\u001b[49m\u001b[43m \u001b[49m\u001b[38;5;28;43mtype\u001b[39;49m\u001b[38;5;241;43m=\u001b[39;49m\u001b[43m \u001b[49m\u001b[38;5;124;43m'\u001b[39;49m\u001b[38;5;124;43mlive\u001b[39;49m\u001b[38;5;124;43m'\u001b[39;49m\u001b[43m)\u001b[49m\n",
      "Cell \u001b[0;32mIn [5], line 4\u001b[0m, in \u001b[0;36mtranslation_calculator\u001b[0;34m(num_of_words, **kwargs)\u001b[0m\n\u001b[1;32m      2\u001b[0m \u001b[38;5;28;01mdef\u001b[39;00m \u001b[38;5;21mtranslation_calculator\u001b[39m(num_of_words, \u001b[38;5;241m*\u001b[39m\u001b[38;5;241m*\u001b[39mkwargs):\n\u001b[1;32m      3\u001b[0m     \u001b[38;5;28;01massert\u001b[39;00m num_of_words \u001b[38;5;241m>\u001b[39m \u001b[38;5;241m0\u001b[39m, \u001b[38;5;124m\"\u001b[39m\u001b[38;5;124mThe number of words has to be over 0\u001b[39m\u001b[38;5;124m\"\u001b[39m\n\u001b[0;32m----> 4\u001b[0m     \u001b[38;5;28;01massert\u001b[39;00m \u001b[38;5;28mtype\u001b[39m \u001b[38;5;241m==\u001b[39m \u001b[38;5;124m'\u001b[39m\u001b[38;5;124mstandard\u001b[39m\u001b[38;5;124m'\u001b[39m \u001b[38;5;129;01mor\u001b[39;00m \u001b[38;5;28mtype\u001b[39m \u001b[38;5;241m==\u001b[39m \u001b[38;5;124m'\u001b[39m\u001b[38;5;124mcertified\u001b[39m\u001b[38;5;124m'\u001b[39m \u001b[38;5;129;01mor\u001b[39;00m \u001b[38;5;28mtype\u001b[39m \u001b[38;5;241m==\u001b[39m \u001b[38;5;124m'\u001b[39m\u001b[38;5;124mnotarized\u001b[39m\u001b[38;5;124m'\u001b[39m, \\\n\u001b[1;32m      5\u001b[0m     \u001b[38;5;124m\"\u001b[39m\u001b[38;5;124mThe type of translation can only be Standard, Certified, or Notarized\u001b[39m\u001b[38;5;124m\"\u001b[39m\n\u001b[1;32m      6\u001b[0m     total_cost\u001b[38;5;241m=\u001b[39m (cost_of_translation(num_of_words, \u001b[38;5;241m*\u001b[39m\u001b[38;5;241m*\u001b[39mkwargs))\u001b[38;5;241m+\u001b[39m (sales_tax_notary(num_of_words, \u001b[38;5;241m*\u001b[39m\u001b[38;5;241m*\u001b[39mkwargs))\n\u001b[1;32m      7\u001b[0m     \u001b[38;5;28mprint\u001b[39m(\u001b[38;5;124m\"\u001b[39m\u001b[38;5;124mNumber of Words: \u001b[39m\u001b[38;5;124m\"\u001b[39m\u001b[38;5;241m+\u001b[39m\u001b[38;5;28mstr\u001b[39m(num_of_words))\n",
      "\u001b[0;31mAssertionError\u001b[0m: The type of translation can only be Standard, Certified, or Notarized"
     ]
    }
   ],
   "source": [
    "###Calling assertion order pt2\n",
    "translation_calculator(1000, type= 'live')\n"
   ]
  },
  {
   "cell_type": "markdown",
   "id": "253a751d",
   "metadata": {},
   "source": [
    "### 2b."
   ]
  },
  {
   "cell_type": "code",
   "execution_count": 8,
   "id": "d89a94fa",
   "metadata": {},
   "outputs": [],
   "source": [
    "###Try-Except Setup\n",
    "def translation_calculator(num_of_words, **kwargs):\n",
    "    try:\n",
    "        assert num_of_words > 0, \"The number of words has to be over 0\"\n",
    "        assert type == 'standard' or type == 'certified' or type == 'notarized', \\\n",
    "    \"The type of translation can only be Standard, Certified, or Notarized\"\n",
    "        total_cost= (cost_of_translation(num_of_words, **kwargs))+ (sales_tax_notary(num_of_words, **kwargs))\n",
    "        print(\"Number of Words: \"+str(num_of_words))\n",
    "        print(\"Type of translation: \" + str(kwargs.get('type')))\n",
    "        print(\"Rush Order: \" + str(kwargs.get('rush')))\n",
    "        if kwargs.get('type')=='standard':\n",
    "            print(\"Rate per word: \" + str(standard_rate))\n",
    "        if kwargs.get('type')=='certified':\n",
    "            print(\"Rate per word: \" + str(certified_rate))\n",
    "        if kwargs.get('type')=='notarized':\n",
    "            print(\"Rate per word: \" + str(notarized_rate))\n",
    "        print('------------------------')    \n",
    "        print(\"Cost of Translation: \" + str(cost_of_translation(num_of_words, **kwargs)))\n",
    "        print(\"Sales Tax: \" + str(sales_tax_notary(num_of_words, **kwargs)))\n",
    "        print('------------------------')\n",
    "        print(\"Total cost: \" + str(total_cost))\n",
    "    except (AssertionError, TypeError, SyntaxError, NameError, ValueError, KeyError) as error:\n",
    "        print(\"Please check your input values\")"
   ]
  },
  {
   "cell_type": "code",
   "execution_count": 9,
   "id": "09919486",
   "metadata": {},
   "outputs": [
    {
     "name": "stdout",
     "output_type": "stream",
     "text": [
      "Please check your input values\n"
     ]
    }
   ],
   "source": [
    "###Negative Number test\n",
    "translation_calculator(-8)"
   ]
  },
  {
   "cell_type": "markdown",
   "id": "efb8d61f",
   "metadata": {},
   "source": [
    "### Explanation of 1b\n",
    "I understand the question says to remove the assertions to use try-except. However, using negative numbers does not create errors in my function. I chose to keep the assertions, and apply the except to the assertion error. "
   ]
  },
  {
   "cell_type": "code",
   "execution_count": null,
   "id": "43547102",
   "metadata": {},
   "outputs": [],
   "source": []
  }
 ],
 "metadata": {
  "kernelspec": {
   "display_name": "Python 3 (ipykernel)",
   "language": "python",
   "name": "python3"
  },
  "language_info": {
   "codemirror_mode": {
    "name": "ipython",
    "version": 3
   },
   "file_extension": ".py",
   "mimetype": "text/x-python",
   "name": "python",
   "nbconvert_exporter": "python",
   "pygments_lexer": "ipython3",
   "version": "3.8.3"
  }
 },
 "nbformat": 4,
 "nbformat_minor": 5
}

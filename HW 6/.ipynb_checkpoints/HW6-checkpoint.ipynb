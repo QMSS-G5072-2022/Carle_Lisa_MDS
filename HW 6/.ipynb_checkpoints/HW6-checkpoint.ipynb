{
 "cells": [
  {
   "cell_type": "code",
   "execution_count": 1,
   "id": "7630867a",
   "metadata": {},
   "outputs": [],
   "source": [
    "### Caesar cipher\n",
    "def cipher(text, shift, encrypt=True):\n",
    "    alphabet = 'abcdefghijklmnopqrstuvwxyzABCDEFGHIJKLMNOPQRSTUVWXYZ'\n",
    "    new_text = ''\n",
    "    for c in text:\n",
    "        index = alphabet.find(c)\n",
    "        if index == -1:\n",
    "            new_text += c\n",
    "        else:\n",
    "            new_index = index + shift if encrypt == True else index - shift\n",
    "            new_index %= len(alphabet)\n",
    "            new_text += alphabet[new_index:new_index+1]\n",
    "    return new_text"
   ]
  },
  {
   "cell_type": "markdown",
   "id": "ae1af0f8",
   "metadata": {},
   "source": [
    "# 1. Test the encrypt function\n",
    "### a) Write a test function that checks whether the cipher function works using a single word as an example."
   ]
  },
  {
   "cell_type": "code",
   "execution_count": 2,
   "id": "152d2de4",
   "metadata": {},
   "outputs": [],
   "source": [
    "def test_cipher_singleword():\n",
    "    actual = cipher('Potato', 2, encrypt=True)\n",
    "    expected = 'Rqvcvq'\n",
    "    assert actual == expected\n",
    "\n",
    "test_cipher_singleword()"
   ]
  },
  {
   "cell_type": "markdown",
   "id": "ff4d0b1f",
   "metadata": {},
   "source": [
    "### b) Write a test function that checks a negative shift works (shift < 0)."
   ]
  },
  {
   "cell_type": "code",
   "execution_count": 3,
   "id": "0ab9b967",
   "metadata": {},
   "outputs": [],
   "source": [
    "def test_cipher_negshift():\n",
    "    actual = cipher('Carrot',-54, encrypt=True)\n",
    "    expected = \"AYppmr\"\n",
    "    assert actual == expected\n",
    "\n",
    "test_cipher_negshift()"
   ]
  },
  {
   "cell_type": "markdown",
   "id": "1070f128",
   "metadata": {},
   "source": [
    "### c) Write a test for the case when the text contains symbols which are not in the alphabet."
   ]
  },
  {
   "cell_type": "code",
   "execution_count": 4,
   "id": "dd237b49",
   "metadata": {},
   "outputs": [],
   "source": [
    "def test_cipher_symbols():\n",
    "    actual = cipher(\"-\", 3, encrypt=True)\n",
    "    expected = \"-\"\n",
    "    assert actual == expected\n",
    "\n",
    "test_cipher_symbols()"
   ]
  },
  {
   "cell_type": "markdown",
   "id": "6b6ff319",
   "metadata": {},
   "source": [
    "### d) Add an assertion to the original function that causes an exception when the shift parameter is set to a string ( e.g. \"two\"). Now, add a test that checks for that exception occurring as expected when a string is passed to shift."
   ]
  },
  {
   "cell_type": "code",
   "execution_count": 5,
   "id": "12e91be1",
   "metadata": {},
   "outputs": [
    {
     "ename": "AssertionError",
     "evalue": "",
     "output_type": "error",
     "traceback": [
      "\u001b[0;31m---------------------------------------------------------------------------\u001b[0m",
      "\u001b[0;31mAssertionError\u001b[0m                            Traceback (most recent call last)",
      "Cell \u001b[0;32mIn [5], line 16\u001b[0m\n\u001b[1;32m     13\u001b[0m             new_text \u001b[38;5;241m+\u001b[39m\u001b[38;5;241m=\u001b[39m alphabet[new_index:new_index\u001b[38;5;241m+\u001b[39m\u001b[38;5;241m1\u001b[39m]\n\u001b[1;32m     14\u001b[0m     \u001b[38;5;28;01mreturn\u001b[39;00m new_text\n\u001b[0;32m---> 16\u001b[0m \u001b[43mcipher\u001b[49m\u001b[43m(\u001b[49m\u001b[38;5;124;43m\"\u001b[39;49m\u001b[38;5;124;43mLeek\u001b[39;49m\u001b[38;5;124;43m\"\u001b[39;49m\u001b[43m,\u001b[49m\u001b[43m \u001b[49m\u001b[38;5;124;43m\"\u001b[39;49m\u001b[38;5;124;43mtwo\u001b[39;49m\u001b[38;5;124;43m\"\u001b[39;49m\u001b[43m)\u001b[49m\n",
      "Cell \u001b[0;32mIn [5], line 5\u001b[0m, in \u001b[0;36mcipher\u001b[0;34m(text, shift, encrypt)\u001b[0m\n\u001b[1;32m      3\u001b[0m alphabet \u001b[38;5;241m=\u001b[39m \u001b[38;5;124m'\u001b[39m\u001b[38;5;124mabcdefghijklmnopqrstuvwxyzABCDEFGHIJKLMNOPQRSTUVWXYZ\u001b[39m\u001b[38;5;124m'\u001b[39m\n\u001b[1;32m      4\u001b[0m new_text \u001b[38;5;241m=\u001b[39m \u001b[38;5;124m'\u001b[39m\u001b[38;5;124m'\u001b[39m\n\u001b[0;32m----> 5\u001b[0m \u001b[38;5;28;01massert\u001b[39;00m \u001b[38;5;28misinstance\u001b[39m(shift, \u001b[38;5;28mint\u001b[39m) \u001b[38;5;241m==\u001b[39m\u001b[38;5;28;01mTrue\u001b[39;00m\n\u001b[1;32m      6\u001b[0m \u001b[38;5;28;01mfor\u001b[39;00m c \u001b[38;5;129;01min\u001b[39;00m text:\n\u001b[1;32m      7\u001b[0m     index \u001b[38;5;241m=\u001b[39m alphabet\u001b[38;5;241m.\u001b[39mfind(c)\n",
      "\u001b[0;31mAssertionError\u001b[0m: "
     ]
    }
   ],
   "source": [
    "### Adding assertion\n",
    "def cipher(text, shift, encrypt=True):\n",
    "    alphabet = 'abcdefghijklmnopqrstuvwxyzABCDEFGHIJKLMNOPQRSTUVWXYZ'\n",
    "    new_text = ''\n",
    "    assert isinstance(shift, int) ==True\n",
    "    for c in text:\n",
    "        index = alphabet.find(c)\n",
    "        if index == -1:\n",
    "            new_text += c\n",
    "        else:\n",
    "            new_index = index + shift if encrypt == True else index - shift\n",
    "            new_index %= len(alphabet)\n",
    "            new_text += alphabet[new_index:new_index+1]\n",
    "    return new_text\n",
    "\n",
    "cipher(\"Leek\", \"two\")\n",
    "    "
   ]
  },
  {
   "cell_type": "code",
   "execution_count": 6,
   "id": "c10a50cf",
   "metadata": {},
   "outputs": [],
   "source": [
    "### Test that checks for exception occurring\n",
    "def test_cipher_exceptionerror():\n",
    "    expected = \"AssertionError:\"\n",
    "    try:\n",
    "        cipher(\"Leek\", \"two\")\n",
    "    except AssertionError:\n",
    "        actual = \"AssertionError:\"\n",
    "    assert expected == actual\n",
    "\n",
    "test_cipher_exceptionerror()"
   ]
  },
  {
   "cell_type": "markdown",
   "id": "44df37ab",
   "metadata": {},
   "source": [
    "### e) Add the tests from 1a, 1b, 1c, and 1d to a file called test_cipher.py in your folder. Run all the tests from your command line using pytest (and verbosity setting -vv) and add a screen shot of the command and the output to your homework solution. Alternatively, you can send the tests to your terminal from within your Jupyter notebook using the !pytest command.\n",
    "\n"
   ]
  },
  {
   "cell_type": "code",
   "execution_count": 7,
   "id": "43881fb6",
   "metadata": {},
   "outputs": [
    {
     "name": "stdout",
     "output_type": "stream",
     "text": [
      "\u001b[33mThe currently activated Python version 3.8.3 is not supported by the project (>=3.9,<3.12).\n",
      "Trying to find and use a compatible version.\u001b[39m \n",
      "Using \u001b[36mpython3.10\u001b[39m (3.10.6)\n",
      "\u001b[1m============================= test session starts ==============================\u001b[0m\n",
      "platform darwin -- Python 3.10.6, pytest-7.1.3, pluggy-1.0.0 -- /Users/lisayokocarle/Library/Caches/pypoetry/virtualenvs/mds--CLq_tl_-py3.10/bin/python\n",
      "cachedir: .pytest_cache\n",
      "rootdir: /Users/lisayokocarle/mds_course/Carle_Lisa/HW 6\n",
      "plugins: anyio-3.6.1, mock-3.10.0, Faker-4.18.0\n",
      "collected 4 items                                                              \u001b[0m\n",
      "\n",
      "test_cipher.py::test_cipher_singleword \u001b[32mPASSED\u001b[0m\u001b[32m                            [ 25%]\u001b[0m\n",
      "test_cipher.py::test_cipher_negshift \u001b[32mPASSED\u001b[0m\u001b[32m                              [ 50%]\u001b[0m\n",
      "test_cipher.py::test_cipher_symbols \u001b[32mPASSED\u001b[0m\u001b[32m                               [ 75%]\u001b[0m\n",
      "test_cipher.py::test_cipher_exceptionerror \u001b[32mPASSED\u001b[0m\u001b[32m                        [100%]\u001b[0m\n",
      "\n",
      "\u001b[32m============================== \u001b[32m\u001b[1m4 passed\u001b[0m\u001b[32m in 0.03s\u001b[0m\u001b[32m ===============================\u001b[0m\n"
     ]
    }
   ],
   "source": [
    "!poetry run pytest -vv test_cipher.py"
   ]
  },
  {
   "cell_type": "markdown",
   "id": "6d6c08c7",
   "metadata": {},
   "source": [
    "### f) Now, expand the test in (1a) using several examples which include a single word, lower case only, upper case only, and a sentence with spaces. Use a fixture for this, so that this remains a single test function."
   ]
  },
  {
   "cell_type": "code",
   "execution_count": null,
   "id": "af70d0e5",
   "metadata": {},
   "outputs": [],
   "source": [
    "### Creating fixture - saved this in its own file\n",
    "import pytest\n",
    "from cipher import cipher\n",
    "\n",
    "@pytest.mark.parametrize (\"text, shift, anticipated\", [(\"Potato\", 2,'Rqvcvq'),(\"celery\", 4,'gipivC'),\n",
    "                                                       (\"BEANS\", 6,'HKGTY'),(\"Soup for Dinner\", 8,'awCx nwz Lqvvmz')])\n",
    "def test_cipher_diffexamples(text, shift, anticipated):\n",
    "    actual=cipher(text, shift, encrypt=True)\n",
    "    expected = anticipated\n",
    "    assert actual == expected\n"
   ]
  },
  {
   "cell_type": "code",
   "execution_count": 8,
   "id": "82163520",
   "metadata": {},
   "outputs": [
    {
     "name": "stdout",
     "output_type": "stream",
     "text": [
      "\u001b[33mThe currently activated Python version 3.8.3 is not supported by the project (>=3.9,<3.12).\n",
      "Trying to find and use a compatible version.\u001b[39m \n",
      "Using \u001b[36mpython3.10\u001b[39m (3.10.6)\n",
      "\u001b[1m============================= test session starts ==============================\u001b[0m\n",
      "platform darwin -- Python 3.10.6, pytest-7.1.3, pluggy-1.0.0 -- /Users/lisayokocarle/Library/Caches/pypoetry/virtualenvs/mds--CLq_tl_-py3.10/bin/python\n",
      "cachedir: .pytest_cache\n",
      "rootdir: /Users/lisayokocarle/mds_course/Carle_Lisa/HW 6\n",
      "plugins: anyio-3.6.1, mock-3.10.0, Faker-4.18.0\n",
      "collected 4 items                                                              \u001b[0m\n",
      "\n",
      "test_parametrize.py::test_cipher_diffexamples[Potato-2-Rqvcvq] \u001b[32mPASSED\u001b[0m\u001b[32m    [ 25%]\u001b[0m\n",
      "test_parametrize.py::test_cipher_diffexamples[celery-4-gipivC] \u001b[32mPASSED\u001b[0m\u001b[32m    [ 50%]\u001b[0m\n",
      "test_parametrize.py::test_cipher_diffexamples[BEANS-6-HKGTY] \u001b[32mPASSED\u001b[0m\u001b[32m      [ 75%]\u001b[0m\n",
      "test_parametrize.py::test_cipher_diffexamples[Soup for Dinner-8-awCx nwz Lqvvmz] \u001b[32mPASSED\u001b[0m\u001b[32m [100%]\u001b[0m\n",
      "\n",
      "\u001b[32m============================== \u001b[32m\u001b[1m4 passed\u001b[0m\u001b[32m in 0.02s\u001b[0m\u001b[32m ===============================\u001b[0m\n"
     ]
    }
   ],
   "source": [
    "###Actually running the test\n",
    "!poetry run pytest -vv test_parametrize.py"
   ]
  },
  {
   "cell_type": "markdown",
   "id": "33532aa2",
   "metadata": {},
   "source": [
    "### g) Write a simple integration-like test that relies on the fact that we can encrypt and decrypt a string using the function (using the encrypt parameter). That is, your test should start with a string, encrypt it, decrypt it, and then compare the result to the starting point. Set up a test that runs this for shift values from 1 to 10."
   ]
  },
  {
   "cell_type": "code",
   "execution_count": 9,
   "id": "95b73de1",
   "metadata": {},
   "outputs": [],
   "source": [
    "from cipher import cipher\n",
    "\n",
    "def test_integration_like():\n",
    "    text=\"Olive Bread\"\n",
    "    encrypted=\"\"\n",
    "    decrypted=\"\"\n",
    "    for i in range(1,11):\n",
    "        encrypted = cipher(text, i)\n",
    "        decrypted = cipher(encrypted, i, encrypt= False)\n",
    "        assert decrypted == text"
   ]
  },
  {
   "cell_type": "code",
   "execution_count": 10,
   "id": "bb805b1b",
   "metadata": {},
   "outputs": [
    {
     "name": "stdout",
     "output_type": "stream",
     "text": [
      "\u001b[33mThe currently activated Python version 3.8.3 is not supported by the project (>=3.9,<3.12).\n",
      "Trying to find and use a compatible version.\u001b[39m \n",
      "Using \u001b[36mpython3.10\u001b[39m (3.10.6)\n",
      "\u001b[1m============================= test session starts ==============================\u001b[0m\n",
      "platform darwin -- Python 3.10.6, pytest-7.1.3, pluggy-1.0.0 -- /Users/lisayokocarle/Library/Caches/pypoetry/virtualenvs/mds--CLq_tl_-py3.10/bin/python\n",
      "cachedir: .pytest_cache\n",
      "rootdir: /Users/lisayokocarle/mds_course/Carle_Lisa/HW 6\n",
      "plugins: anyio-3.6.1, mock-3.10.0, Faker-4.18.0\n",
      "collected 1 item                                                               \u001b[0m\n",
      "\n",
      "test_integration_like.py::test_integration_like \u001b[32mPASSED\u001b[0m\u001b[32m                   [100%]\u001b[0m\n",
      "\n",
      "\u001b[32m============================== \u001b[32m\u001b[1m1 passed\u001b[0m\u001b[32m in 0.02s\u001b[0m\u001b[32m ===============================\u001b[0m\n"
     ]
    }
   ],
   "source": [
    "!poetry run pytest -vv test_integration_like.py"
   ]
  },
  {
   "cell_type": "code",
   "execution_count": null,
   "id": "3fb0276d",
   "metadata": {},
   "outputs": [],
   "source": []
  }
 ],
 "metadata": {
  "kernelspec": {
   "display_name": "Python 3 (ipykernel)",
   "language": "python",
   "name": "python3"
  },
  "language_info": {
   "codemirror_mode": {
    "name": "ipython",
    "version": 3
   },
   "file_extension": ".py",
   "mimetype": "text/x-python",
   "name": "python",
   "nbconvert_exporter": "python",
   "pygments_lexer": "ipython3",
   "version": "3.8.3"
  }
 },
 "nbformat": 4,
 "nbformat_minor": 5
}

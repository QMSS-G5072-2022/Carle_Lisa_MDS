{
 "cells": [
  {
   "cell_type": "code",
   "execution_count": null,
   "id": "7630867a",
   "metadata": {},
   "outputs": [],
   "source": [
    "### Caesar cipher\n",
    "def cipher(text, shift, encrypt=True):\n",
    "    alphabet = 'abcdefghijklmnopqrstuvwxyzABCDEFGHIJKLMNOPQRSTUVWXYZ'\n",
    "    new_text = ''\n",
    "    for c in text:\n",
    "        index = alphabet.find(c)\n",
    "        if index == -1:\n",
    "            new_text += c\n",
    "        else:\n",
    "            new_index = index + shift if encrypt == True else index - shift\n",
    "            new_index %= len(alphabet)\n",
    "            new_text += alphabet[new_index:new_index+1]\n",
    "    return new_text"
   ]
  },
  {
   "cell_type": "markdown",
   "id": "ae1af0f8",
   "metadata": {},
   "source": [
    "# 1. Test the encrypt function\n",
    "### a) Write a test function that checks whether the cipher function works using a single word as an example."
   ]
  },
  {
   "cell_type": "code",
   "execution_count": null,
   "id": "152d2de4",
   "metadata": {},
   "outputs": [],
   "source": [
    "def test_cipher_singleword():\n",
    "    actual = cipher('Potato', 2, encrypt=True)\n",
    "    expected = 'Rqvcvq'\n",
    "    assert actual == expected\n",
    "\n",
    "test_cipher_singleword()"
   ]
  },
  {
   "cell_type": "markdown",
   "id": "ff4d0b1f",
   "metadata": {},
   "source": [
    "### b) Write a test function that checks a negative shift works (shift < 0)."
   ]
  },
  {
   "cell_type": "code",
   "execution_count": null,
   "id": "0ab9b967",
   "metadata": {},
   "outputs": [],
   "source": [
    "def test_cipher_negshift():\n",
    "    actual = cipher('Carrot',-54, encrypt=True)\n",
    "    expected = \"AYppmr\"\n",
    "    assert actual == expected\n",
    "\n",
    "test_cipher_negshift()"
   ]
  },
  {
   "cell_type": "markdown",
   "id": "1070f128",
   "metadata": {},
   "source": [
    "### c) Write a test for the case when the text contains symbols which are not in the alphabet."
   ]
  },
  {
   "cell_type": "code",
   "execution_count": null,
   "id": "dd237b49",
   "metadata": {},
   "outputs": [],
   "source": [
    "def test_cipher_symbols():\n",
    "    actual = cipher(\"-\", 3, encrypt=True)\n",
    "    expected = \"-\"\n",
    "    assert actual == expected\n",
    "\n",
    "test_cipher_symbols()"
   ]
  },
  {
   "cell_type": "markdown",
   "id": "6b6ff319",
   "metadata": {},
   "source": [
    "### d) Add an assertion to the original function that causes an exception when the shift parameter is set to a string ( e.g. \"two\"). Now, add a test that checks for that exception occurring as expected when a string is passed to shift."
   ]
  },
  {
   "cell_type": "code",
   "execution_count": null,
   "id": "12e91be1",
   "metadata": {},
   "outputs": [],
   "source": [
    "### Adding assertion\n",
    "def cipher(text, shift, encrypt=True):\n",
    "    alphabet = 'abcdefghijklmnopqrstuvwxyzABCDEFGHIJKLMNOPQRSTUVWXYZ'\n",
    "    new_text = ''\n",
    "    assert isinstance(shift, int) ==True\n",
    "    for c in text:\n",
    "        index = alphabet.find(c)\n",
    "        if index == -1:\n",
    "            new_text += c\n",
    "        else:\n",
    "            new_index = index + shift if encrypt == True else index - shift\n",
    "            new_index %= len(alphabet)\n",
    "            new_text += alphabet[new_index:new_index+1]\n",
    "    return new_text\n",
    "\n",
    "cipher(\"Leek\", \"two\")\n",
    "    "
   ]
  },
  {
   "cell_type": "code",
   "execution_count": null,
   "id": "c10a50cf",
   "metadata": {},
   "outputs": [],
   "source": [
    "### Test that checks for exception occurring\n",
    "def test_cipher_exceptionerror():\n",
    "    expected = \"AssertionError:\"\n",
    "    try:\n",
    "        cipher(\"Leek\", \"two\")\n",
    "    except AssertionError:\n",
    "        actual = \"AssertionError:\"\n",
    "    assert expected == actual\n",
    "\n",
    "test_cipher_exceptionerror()"
   ]
  },
  {
   "cell_type": "markdown",
   "id": "44df37ab",
   "metadata": {},
   "source": [
    "### e) Add the tests from 1a, 1b, 1c, and 1d to a file called test_cipher.py in your folder. Run all the tests from your command line using pytest (and verbosity setting -vv) and add a screen shot of the command and the output to your homework solution. Alternatively, you can send the tests to your terminal from within your Jupyter notebook using the !pytest command.\n",
    "\n"
   ]
  },
  {
   "cell_type": "code",
   "execution_count": null,
   "id": "43881fb6",
   "metadata": {},
   "outputs": [],
   "source": [
    "!poetry run pytest -vv test_cipher.py"
   ]
  },
  {
   "cell_type": "markdown",
   "id": "6d6c08c7",
   "metadata": {},
   "source": [
    "### f) Now, expand the test in (1a) using several examples which include a single word, lower case only, upper case only, and a sentence with spaces. Use a fixture for this, so that this remains a single test function."
   ]
  },
  {
   "cell_type": "code",
   "execution_count": null,
   "id": "af70d0e5",
   "metadata": {},
   "outputs": [],
   "source": [
    "### Creating fixture - saved this in its own file\n",
    "import pytest\n",
    "from cipher import cipher\n",
    "\n",
    "@pytest.mark.parametrize (\"text, shift, anticipated\", [(\"Potato\", 2,'Rqvcvq'),(\"celery\", 4,'gipivC'),\n",
    "                                                       (\"BEANS\", 6,'HKGTY'),(\"Soup for Dinner\", 8,'awCx nwz Lqvvmz')])\n",
    "def test_cipher_diffexamples(text, shift, anticipated):\n",
    "    actual=cipher(text, shift, encrypt=True)\n",
    "    expected = anticipated\n",
    "    assert actual == expected\n"
   ]
  },
  {
   "cell_type": "code",
   "execution_count": null,
   "id": "82163520",
   "metadata": {},
   "outputs": [],
   "source": [
    "###Actually running the test\n",
    "!poetry run pytest -vv test_parametrize.py"
   ]
  },
  {
   "cell_type": "markdown",
   "id": "33532aa2",
   "metadata": {},
   "source": [
    "### g) Write a simple integration-like test that relies on the fact that we can encrypt and decrypt a string using the function (using the encrypt parameter). That is, your test should start with a string, encrypt it, decrypt it, and then compare the result to the starting point. Set up a test that runs this for shift values from 1 to 10."
   ]
  },
  {
   "cell_type": "code",
   "execution_count": null,
   "id": "95b73de1",
   "metadata": {},
   "outputs": [],
   "source": [
    "from cipher import cipher\n",
    "\n",
    "def test_integration_like():\n",
    "    text=\"Olive Bread\"\n",
    "    encrypted=\"\"\n",
    "    decrypted=\"\"\n",
    "    for i in range(1,11):\n",
    "        encrypted = cipher(text, i)\n",
    "        decrypted = cipher(encrypted, i, encrypt= False)\n",
    "        assert decrypted == text"
   ]
  },
  {
   "cell_type": "code",
   "execution_count": null,
   "id": "bb805b1b",
   "metadata": {},
   "outputs": [],
   "source": [
    "!poetry run pytest -vv test_integration_like.py"
   ]
  },
  {
   "cell_type": "code",
   "execution_count": null,
   "id": "3fb0276d",
   "metadata": {},
   "outputs": [],
   "source": []
  }
 ],
 "metadata": {
  "kernelspec": {
   "display_name": "Python 3 (ipykernel)",
   "language": "python",
   "name": "python3"
  },
  "language_info": {
   "codemirror_mode": {
    "name": "ipython",
    "version": 3
   },
   "file_extension": ".py",
   "mimetype": "text/x-python",
   "name": "python",
   "nbconvert_exporter": "python",
   "pygments_lexer": "ipython3",
   "version": "3.8.3"
  }
 },
 "nbformat": 4,
 "nbformat_minor": 5
}

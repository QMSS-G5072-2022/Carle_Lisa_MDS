{
 "cells": [
  {
   "cell_type": "markdown",
   "id": "692ea640",
   "metadata": {},
   "source": [
    "## Provide a link to your TestPyPi package: https://test.pypi.org/project/cipher-lyc2121/\n",
    "## Repo of your package: https://github.com/QMSS-G5072-2022/cipher_carle_lisa"
   ]
  },
  {
   "cell_type": "markdown",
   "id": "aa84506e",
   "metadata": {},
   "source": [
    "### Directly install your package from TestPyPi (using !pip ...)\n"
   ]
  },
  {
   "cell_type": "code",
   "execution_count": 2,
   "id": "6b911b46",
   "metadata": {},
   "outputs": [
    {
     "name": "stdout",
     "output_type": "stream",
     "text": [
      "Looking in indexes: https://test.pypi.org/simple/\r\n",
      "Requirement already satisfied: cipher-lyc2121 in /Users/lisayokocarle/Library/Caches/pypoetry/virtualenvs/mds-55IYn6kG-py3.10/lib/python3.10/site-packages (0.1.1)\r\n"
     ]
    }
   ],
   "source": [
    "!pip install -i https://test.pypi.org/simple/ cipher-lyc2121"
   ]
  },
  {
   "cell_type": "code",
   "execution_count": 3,
   "id": "9ecb4254",
   "metadata": {},
   "outputs": [
    {
     "name": "stdout",
     "output_type": "stream",
     "text": [
      "Name: cipher-lyc2121\r\n",
      "Version: 0.1.1\r\n",
      "Summary: HW 7 Package\r\n",
      "Home-page: \r\n",
      "Author: Lisa Carle\r\n",
      "Author-email: \r\n",
      "License: MIT\r\n",
      "Location: /Users/lisayokocarle/Library/Caches/pypoetry/virtualenvs/mds-55IYn6kG-py3.10/lib/python3.10/site-packages\r\n",
      "Requires: \r\n",
      "Required-by: \r\n"
     ]
    }
   ],
   "source": [
    "!pip show cipher_lyc2121"
   ]
  },
  {
   "cell_type": "code",
   "execution_count": 4,
   "id": "749a2b83",
   "metadata": {},
   "outputs": [],
   "source": [
    "import sys\n",
    "sys.path.append('/Users/lisayokocarle/Library/Caches/pypoetry/virtualenvs/mds-55IYn6kG-py3.10/lib/python3.10/site-packages')"
   ]
  },
  {
   "cell_type": "markdown",
   "id": "75ed39d4",
   "metadata": {},
   "source": [
    "### Import your package\n"
   ]
  },
  {
   "cell_type": "code",
   "execution_count": 5,
   "id": "8a1955ac",
   "metadata": {},
   "outputs": [],
   "source": [
    "from cipher_lyc2121 import cipher_lyc2121"
   ]
  },
  {
   "cell_type": "markdown",
   "id": "09bab468",
   "metadata": {},
   "source": [
    "### Run the cipher function for an example\n"
   ]
  },
  {
   "cell_type": "code",
   "execution_count": 6,
   "id": "7c7fc6a4",
   "metadata": {},
   "outputs": [
    {
     "data": {
      "text/plain": [
       "'Fmfmqfet'"
      ]
     },
     "execution_count": 6,
     "metadata": {},
     "output_type": "execute_result"
    }
   ],
   "source": [
    "cipher_lyc2121.cipher('Bibimbap', 4, encrypt=True)"
   ]
  },
  {
   "cell_type": "markdown",
   "id": "e18b0345",
   "metadata": {},
   "source": [
    "### Show the output of help\n"
   ]
  },
  {
   "cell_type": "code",
   "execution_count": 7,
   "id": "7a4fb890",
   "metadata": {},
   "outputs": [
    {
     "name": "stdout",
     "output_type": "stream",
     "text": [
      "Help on module cipher_lyc2121.cipher_lyc2121 in cipher_lyc2121:\n",
      "\n",
      "NAME\n",
      "    cipher_lyc2121.cipher_lyc2121\n",
      "\n",
      "FUNCTIONS\n",
      "    cipher(text, shift, encrypt=True)\n",
      "        replaces each letter by some fixed number\n",
      "        of positions down the alphabet to ultimately create a cipher.\n",
      "        \n",
      "        Parameters\n",
      "        ----------\n",
      "        text : string\n",
      "        A string you would like to cipher\n",
      "        shift: integer\n",
      "        The fixed number of positions down the alphabet to go\n",
      "        encrypt: True or False\n",
      "        Value for whether you would like to encrypt or decrypt.\n",
      "        \n",
      "        Returns\n",
      "        ---------\n",
      "        An encrypted or decrypted string\n",
      "        \n",
      "        Examples\n",
      "        ---------\n",
      "        >>> from cipher_lyc2121 import cipher_lyc2121\n",
      "        >>> cipher_lyc2121.cipher('Potato', 2, encrypt=True)\n",
      "        'Rqvcvq'\n",
      "\n",
      "FILE\n",
      "    /Users/lisayokocarle/Library/Caches/pypoetry/virtualenvs/mds-55IYn6kG-py3.10/lib/python3.10/site-packages/cipher_lyc2121/cipher_lyc2121.py\n",
      "\n",
      "\n"
     ]
    }
   ],
   "source": [
    "help(cipher_lyc2121)"
   ]
  },
  {
   "cell_type": "code",
   "execution_count": 8,
   "id": "6b32f128",
   "metadata": {},
   "outputs": [
    {
     "name": "stdout",
     "output_type": "stream",
     "text": [
      "Help on function cipher in module cipher_lyc2121.cipher_lyc2121:\n",
      "\n",
      "cipher(text, shift, encrypt=True)\n",
      "    replaces each letter by some fixed number\n",
      "    of positions down the alphabet to ultimately create a cipher.\n",
      "    \n",
      "    Parameters\n",
      "    ----------\n",
      "    text : string\n",
      "    A string you would like to cipher\n",
      "    shift: integer\n",
      "    The fixed number of positions down the alphabet to go\n",
      "    encrypt: True or False\n",
      "    Value for whether you would like to encrypt or decrypt.\n",
      "    \n",
      "    Returns\n",
      "    ---------\n",
      "    An encrypted or decrypted string\n",
      "    \n",
      "    Examples\n",
      "    ---------\n",
      "    >>> from cipher_lyc2121 import cipher_lyc2121\n",
      "    >>> cipher_lyc2121.cipher('Potato', 2, encrypt=True)\n",
      "    'Rqvcvq'\n",
      "\n"
     ]
    }
   ],
   "source": [
    "help(cipher_lyc2121.cipher)"
   ]
  },
  {
   "cell_type": "markdown",
   "id": "9cd9638c",
   "metadata": {},
   "source": [
    "## Some additional notes: \n",
    "\n",
    "### I made a mistake when committing to Git when I was creating my package. I forgot to type git add . before every commit, and as a result do not have all the asked for commits. I can't go back and make them, I hope that is okay. \n",
    "\n",
    "### I also had to update my doc string, so there is an error in my HTML. I tried to figure out how to create a new version, but I did not get an answer on Ed Discussion in time. I did however, update the literal doc string. I just could not put that update into the HTML."
   ]
  },
  {
   "cell_type": "code",
   "execution_count": null,
   "id": "067921c0",
   "metadata": {},
   "outputs": [],
   "source": []
  }
 ],
 "metadata": {
  "kernelspec": {
   "display_name": "Python 3 (ipykernel)",
   "language": "python",
   "name": "python3"
  },
  "language_info": {
   "codemirror_mode": {
    "name": "ipython",
    "version": 3
   },
   "file_extension": ".py",
   "mimetype": "text/x-python",
   "name": "python",
   "nbconvert_exporter": "python",
   "pygments_lexer": "ipython3",
   "version": "3.11.0"
  }
 },
 "nbformat": 4,
 "nbformat_minor": 5
}

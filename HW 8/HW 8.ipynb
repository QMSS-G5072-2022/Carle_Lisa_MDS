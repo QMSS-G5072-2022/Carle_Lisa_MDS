{
 "cells": [
  {
   "cell_type": "markdown",
   "id": "b05b118d",
   "metadata": {},
   "source": [
    "# 1. Choose an API\n",
    "\n",
    "## a) Choose an API and briefly describe the type of data you can obtain from it. \n",
    "### The API I am choosing is the Metropolitan Museum of Art Collection API. The Met API contains select datasets of information on more than 470,000 artworks in its collection. \n",
    "\n",
    "## b) Provide a link to the API documentation\n",
    "### https://metmuseum.github.io/\n",
    "\n",
    "## c) the base URL of the API you intend to use.\n",
    "### https://collectionapi.metmuseum.org/public/collection/v1/search"
   ]
  },
  {
   "cell_type": "markdown",
   "id": "e1b7d904",
   "metadata": {},
   "source": [
    "# 2. Authentication\n",
    "\n",
    "## a) Briefly explain how the API authenticates the user. \n",
    "### The MET API does not require API users to register or obtain an API key to use the service. \n",
    "\n",
    "## b) Apply for an API key if necessary and provide the information (with relevant URL) how that can be done. Do not include the API key in the assignment submission.\n",
    "### No Need :)"
   ]
  },
  {
   "cell_type": "markdown",
   "id": "360178cf",
   "metadata": {},
   "source": [
    "# 3. Send a Simple GET Request"
   ]
  },
  {
   "cell_type": "code",
   "execution_count": 211,
   "id": "418c2b48",
   "metadata": {},
   "outputs": [],
   "source": [
    "### Executing GET request to obtain a small amount of data from the API. \n",
    "import requests\n",
    "url = 'https://collectionapi.metmuseum.org/public/collection/v1/search'\n",
    "param1 = {\"q\": \"moon\", \"medium\": \"Paintings\"}\n",
    "\n",
    "r = requests.get(url, params = param1)"
   ]
  },
  {
   "cell_type": "code",
   "execution_count": 212,
   "id": "a2a791c7",
   "metadata": {},
   "outputs": [
    {
     "data": {
      "text/plain": [
       "200"
      ]
     },
     "execution_count": 212,
     "metadata": {},
     "output_type": "execute_result"
    }
   ],
   "source": [
    "### Check and show the status of the request\n",
    "r.status_code"
   ]
  },
  {
   "cell_type": "code",
   "execution_count": 213,
   "id": "b113e097",
   "metadata": {},
   "outputs": [
    {
     "data": {
      "text/plain": [
       "'application/json; charset=UTF-8'"
      ]
     },
     "execution_count": 213,
     "metadata": {},
     "output_type": "execute_result"
    }
   ],
   "source": [
    "### Check and show the type of response\n",
    "r.headers.get('Content-Type')"
   ]
  },
  {
   "cell_type": "markdown",
   "id": "129d9163",
   "metadata": {},
   "source": [
    "# 4. Parse the response and Create a dataset\n"
   ]
  },
  {
   "cell_type": "code",
   "execution_count": 298,
   "id": "f02a1bcf",
   "metadata": {},
   "outputs": [
    {
     "name": "stdout",
     "output_type": "stream",
     "text": [
      "<class 'dict'>\n",
      "dict_keys(['total', 'objectIDs'])\n",
      "40511\n"
     ]
    }
   ],
   "source": [
    "### 4a) Saving Object IDs to a list\n",
    "\n",
    "met_json = r.json()\n",
    "print(type(met_json))\n",
    "print(met_json.keys())\n",
    "\n",
    "###saving object ids in variable\n",
    "objectids= met_json['objectIDs']\n",
    "print(objectids[-1])"
   ]
  },
  {
   "cell_type": "code",
   "execution_count": 216,
   "id": "f1647ea6",
   "metadata": {},
   "outputs": [],
   "source": [
    "### 4b) Creating a dataset using API. Using the Object IDs from search to pull all open access data about that object\n",
    "\n",
    "url_object = 'https://collectionapi.metmuseum.org/public/collection/v1/objects/{id}'\n",
    "dataset = []\n",
    "\n",
    "for ids in objectids:\n",
    "    parameters = {'objectID': ids} \n",
    "    objectidsearch = requests.get(url_object.format(id = ids), params = parameters)\n",
    "    dataset.append(objectidsearch.json())"
   ]
  },
  {
   "cell_type": "code",
   "execution_count": 219,
   "id": "7c03ecbc",
   "metadata": {},
   "outputs": [
    {
     "name": "stdout",
     "output_type": "stream",
     "text": [
      "   objectID isHighlight accessionNumber accessionYear isPublicDomain  \\\n",
      "0  490081.0       False         2015.56          2015          False   \n",
      "1   78452.0       False        2013.232          2013          False   \n",
      "2  438417.0        True         2000.51          2000           True   \n",
      "3  752049.0        True        2017.388          2017          False   \n",
      "4  437326.0        True         24.45.1          1924           True   \n",
      "\n",
      "                                        primaryImage  \\\n",
      "0                                                      \n",
      "1                                                      \n",
      "2  https://images.metmuseum.org/CRDImages/ep/orig...   \n",
      "3                                                      \n",
      "4  https://images.metmuseum.org/CRDImages/ep/orig...   \n",
      "\n",
      "                                   primaryImageSmall additionalImages  \\\n",
      "0                                                                  []   \n",
      "1                                                                  []   \n",
      "2  https://images.metmuseum.org/CRDImages/ep/web-...               []   \n",
      "3                                                                  []   \n",
      "4  https://images.metmuseum.org/CRDImages/ep/web-...               []   \n",
      "\n",
      "                                        constituents  \\\n",
      "0  [{'constituentID': 146069, 'role': 'Artist', '...   \n",
      "1  [{'constituentID': 19910, 'role': 'Artist', 'n...   \n",
      "2  [{'constituentID': 161907, 'role': 'Artist', '...   \n",
      "3  [{'constituentID': 198538, 'role': 'Artist', '...   \n",
      "4  [{'constituentID': 162270, 'role': 'Artist', '...   \n",
      "\n",
      "                    department  ...  \\\n",
      "0  Modern and Contemporary Art  ...   \n",
      "1                    Asian Art  ...   \n",
      "2           European Paintings  ...   \n",
      "3  Modern and Contemporary Art  ...   \n",
      "4           European Paintings  ...   \n",
      "\n",
      "                               rightsAndReproduction linkResource  \\\n",
      "0  Courtesy of the artist / Gavin Brown’s enterpr...                \n",
      "1                                                                   \n",
      "2                                                                   \n",
      "3                                                                   \n",
      "4                                                                   \n",
      "\n",
      "               metadataDate                                repository  \\\n",
      "0  2022-09-28T04:55:47.413Z  Metropolitan Museum of Art, New York, NY   \n",
      "1   2022-08-06T04:53:30.68Z  Metropolitan Museum of Art, New York, NY   \n",
      "2  2022-08-19T04:54:33.997Z  Metropolitan Museum of Art, New York, NY   \n",
      "3  2022-10-29T04:54:46.907Z  Metropolitan Museum of Art, New York, NY   \n",
      "4  2022-10-20T04:55:06.267Z  Metropolitan Museum of Art, New York, NY   \n",
      "\n",
      "                                           objectURL  \\\n",
      "0  https://www.metmuseum.org/art/collection/searc...   \n",
      "1  https://www.metmuseum.org/art/collection/searc...   \n",
      "2  https://www.metmuseum.org/art/collection/searc...   \n",
      "3  https://www.metmuseum.org/art/collection/searc...   \n",
      "4  https://www.metmuseum.org/art/collection/searc...   \n",
      "\n",
      "                                                tags  \\\n",
      "0  [{'term': 'Abstraction', 'AAT_URL': 'http://vo...   \n",
      "1  [{'term': 'Fish', 'AAT_URL': 'http://vocab.get...   \n",
      "2  [{'term': 'Contemplation', 'AAT_URL': 'http://...   \n",
      "3                                               None   \n",
      "4  [{'term': 'Orion', 'AAT_URL': None, 'Wikidata_...   \n",
      "\n",
      "                        objectWikidata_URL isTimelineWork GalleryNumber  \\\n",
      "0  https://www.wikidata.org/wiki/Q19918139          False           915   \n",
      "1                                                   False                 \n",
      "2  https://www.wikidata.org/wiki/Q17281208           True           807   \n",
      "3                                                   False           915   \n",
      "4  https://www.wikidata.org/wiki/Q19911450           True           618   \n",
      "\n",
      "  message  \n",
      "0     NaN  \n",
      "1     NaN  \n",
      "2     NaN  \n",
      "3     NaN  \n",
      "4     NaN  \n",
      "\n",
      "[5 rows x 58 columns]\n"
     ]
    }
   ],
   "source": [
    "### creating dataframe from data collected through API\n",
    "\n",
    "import pandas as pd\n",
    "\n",
    "df = pd.DataFrame(dataset)\n",
    "print(df.head())"
   ]
  },
  {
   "cell_type": "code",
   "execution_count": 269,
   "id": "4e57b0c9",
   "metadata": {},
   "outputs": [
    {
     "name": "stdout",
     "output_type": "stream",
     "text": [
      "   objectID                                     title  \\\n",
      "0  490081.0                                  Untitled   \n",
      "1   78452.0                            Lotus and Carp   \n",
      "2  438417.0            Two Men Contemplating the Moon   \n",
      "3  752049.0                              Fly the Wild   \n",
      "4  437326.0  Blind Orion Searching for the Rising Sun   \n",
      "\n",
      "                    department       artistDisplayName artistNationality  \\\n",
      "0  Modern and Contemporary Art             Laura Owens          American   \n",
      "1                    Asian Art         Song Yeong-bang            Korean   \n",
      "2           European Paintings  Caspar David Friedrich            German   \n",
      "3  Modern and Contemporary Art         Stanley Whitney          American   \n",
      "4           European Paintings         Nicolas Poussin            French   \n",
      "\n",
      "  artistGender   objectDate  \n",
      "0       Female         1996  \n",
      "1                      1990  \n",
      "2               ca. 1825–30  \n",
      "3                      2017  \n",
      "4                      1658  \n"
     ]
    }
   ],
   "source": [
    "### creating more specific dataframe\n",
    "df2 = df[['objectID', 'title','department', 'artistDisplayName', 'artistNationality', 'artistGender', 'objectDate']]\n",
    "print(df2.head())"
   ]
  },
  {
   "cell_type": "code",
   "execution_count": 270,
   "id": "bf4f9b47",
   "metadata": {},
   "outputs": [
    {
     "data": {
      "text/plain": [
       "<AxesSubplot:>"
      ]
     },
     "execution_count": 270,
     "metadata": {},
     "output_type": "execute_result"
    },
    {
     "data": {
      "image/png": "[encoded data removed]",
      "text/plain": [
       "<Figure size 640x480 with 1 Axes>"
      ]
     },
     "metadata": {},
     "output_type": "display_data"
    }
   ],
   "source": [
    "### Summary Statistics of data\n",
    "df2['artistNationality'].hist(xrot=90)\n",
    "\n",
    "### Based on my histogram, of all the paintings that are about the moon, the majority of artists that create these\n",
    "### works have French, Unknown, or American, born Russian nationalities at over 350 contributions per each nationality\n"
   ]
  },
  {
   "cell_type": "code",
   "execution_count": 293,
   "id": "10267681",
   "metadata": {},
   "outputs": [
    {
     "name": "stderr",
     "output_type": "stream",
     "text": [
      "/var/folders/rn/3kc6r6fd7_g4r4j7c0sz26nh0000gn/T/ipykernel_12289/3401474335.py:4: SettingWithCopyWarning: \n",
      "A value is trying to be set on a copy of a slice from a DataFrame.\n",
      "Try using .loc[row_indexer,col_indexer] = value instead\n",
      "\n",
      "See the caveats in the documentation: https://pandas.pydata.org/pandas-docs/stable/user_guide/indexing.html#returning-a-view-versus-a-copy\n",
      "  df2['timeperiod']=['modern'if re.search(r'\\s*\\b((18[6-9]\\d)|19|20)+', str(date)) else \"not modern\" for date in df.loc[:,'objectDate']]\n"
     ]
    }
   ],
   "source": [
    "### Summary Statistics of data 2\n",
    "### Seeing how many paintings that are related to moons were created are modern (1860-present)\n",
    "import re\n",
    "df2['timeperiod']=['modern'if re.search(r'\\s*\\b((18[6-9]\\d)|19|20)+', str(date)) else \"not modern\" for date in df.loc[:,'objectDate']]\n",
    "\n",
    "### saving data frame as csv file\n",
    "df2.to_csv('data.csv')"
   ]
  },
  {
   "cell_type": "code",
   "execution_count": 285,
   "id": "fdccbde4",
   "metadata": {},
   "outputs": [
    {
     "data": {
      "text/plain": [
       "<AxesSubplot:>"
      ]
     },
     "execution_count": 285,
     "metadata": {},
     "output_type": "execute_result"
    },
    {
     "data": {
      "image/png": "[encoded data removed]",
      "text/plain": [
       "<Figure size 640x480 with 1 Axes>"
      ]
     },
     "metadata": {},
     "output_type": "display_data"
    }
   ],
   "source": [
    "### Summary Statistics of data 2 (cont)\n",
    "df2['timeperiod'].hist()\n",
    "\n",
    "### Based on the histogram, we can see that there are more modern moon paintings (roughly 470), than not modern (325ish). "
   ]
  },
  {
   "cell_type": "markdown",
   "id": "eac52ccf",
   "metadata": {},
   "source": [
    "# 5. API Client"
   ]
  },
  {
   "cell_type": "code",
   "execution_count": 329,
   "id": "8379bd94",
   "metadata": {},
   "outputs": [],
   "source": [
    "### creating API function\n",
    "def random_art_finder(q= \"flower\", medium= \"Paintings\"):\n",
    "    \"\"\"\n",
    "    Returns random piece of art and information about art based on user's search query.\n",
    "    This is done by selecting the last ObjectID pulled by the returned list from the search query. \n",
    "    \n",
    "    Parameters\n",
    "    ----------\n",
    "    q : A string variable.\n",
    "    medium : A string variable.\n",
    "    \n",
    "    Returns\n",
    "    -------\n",
    "    One art piece's title, artist, ObjectID, and Date created that fits the user's search query.\n",
    "    \n",
    "    Examples\n",
    "    --------\n",
    "    >>> random_art_finder(q= \"sun\", medium = \"Paintings\")\n",
    "    0 ObjectID 825718\n",
    "    1 Artist Chokha\n",
    "    2 Title A court beauty\n",
    "    3 Date 1805–10 \n",
    "    \"\"\"\n",
    "    import requests\n",
    "    import random\n",
    "    functionurl = 'https://collectionapi.metmuseum.org/public/collection/v1/search'\n",
    "    param = {\"q\": q, \"medium\": medium}\n",
    "    r = requests.get(functionurl, params = param)\n",
    "### checking status of request, if successful get object ID art results\n",
    "    if r.status_code == 200:\n",
    "        object_json = r.json()\n",
    "        savedids = object_json['objectIDs']\n",
    "        url2 = 'https://collectionapi.metmuseum.org/public/collection/v1/objects/{id}'\n",
    "        parameters = {'objectID': savedids[-1]} \n",
    "        search = requests.get(url2.format(id = savedids[-1]), params = parameters)\n",
    "        dataset2= search.json()\n",
    "        listofinfo= {\"ObjectID\": dataset2['objectID'], \"Artist\": dataset2['artistDisplayName'], \n",
    "                     \"Title\": dataset2['title'],\"Date\": dataset2['objectDate']}\n",
    "        dataframe = pd.DataFrame(list(listofinfo.items()))\n",
    "        return dataframe\n",
    "    if r.status_code == 400 or r.status_code ==404:\n",
    "        return \"An error occurred. Be sure to type in query\"\n",
    "        "
   ]
  },
  {
   "cell_type": "code",
   "execution_count": 330,
   "id": "62647427",
   "metadata": {},
   "outputs": [
    {
     "data": {
      "text/html": [
       "<div>\n",
       "<style scoped>\n",
       "    .dataframe tbody tr th:only-of-type {\n",
       "        vertical-align: middle;\n",
       "    }\n",
       "\n",
       "    .dataframe tbody tr th {\n",
       "        vertical-align: top;\n",
       "    }\n",
       "\n",
       "    .dataframe thead th {\n",
       "        text-align: right;\n",
       "    }\n",
       "</style>\n",
       "<table border=\"1\" class=\"dataframe\">\n",
       "  <thead>\n",
       "    <tr style=\"text-align: right;\">\n",
       "      <th></th>\n",
       "      <th>0</th>\n",
       "      <th>1</th>\n",
       "    </tr>\n",
       "  </thead>\n",
       "  <tbody>\n",
       "    <tr>\n",
       "      <th>0</th>\n",
       "      <td>ObjectID</td>\n",
       "      <td>825720</td>\n",
       "    </tr>\n",
       "    <tr>\n",
       "      <th>1</th>\n",
       "      <td>Artist</td>\n",
       "      <td>Kishan Das</td>\n",
       "    </tr>\n",
       "    <tr>\n",
       "      <th>2</th>\n",
       "      <td>Title</td>\n",
       "      <td>Maharao Ram Singh in durbar</td>\n",
       "    </tr>\n",
       "    <tr>\n",
       "      <th>3</th>\n",
       "      <td>Date</td>\n",
       "      <td>ca. 1850</td>\n",
       "    </tr>\n",
       "  </tbody>\n",
       "</table>\n",
       "</div>"
      ],
      "text/plain": [
       "          0                            1\n",
       "0  ObjectID                       825720\n",
       "1    Artist                   Kishan Das\n",
       "2     Title  Maharao Ram Singh in durbar\n",
       "3      Date                     ca. 1850"
      ]
     },
     "execution_count": 330,
     "metadata": {},
     "output_type": "execute_result"
    }
   ],
   "source": [
    "random_art_finder()"
   ]
  },
  {
   "cell_type": "code",
   "execution_count": 331,
   "id": "a40013af",
   "metadata": {},
   "outputs": [
    {
     "data": {
      "text/html": [
       "<div>\n",
       "<style scoped>\n",
       "    .dataframe tbody tr th:only-of-type {\n",
       "        vertical-align: middle;\n",
       "    }\n",
       "\n",
       "    .dataframe tbody tr th {\n",
       "        vertical-align: top;\n",
       "    }\n",
       "\n",
       "    .dataframe thead th {\n",
       "        text-align: right;\n",
       "    }\n",
       "</style>\n",
       "<table border=\"1\" class=\"dataframe\">\n",
       "  <thead>\n",
       "    <tr style=\"text-align: right;\">\n",
       "      <th></th>\n",
       "      <th>0</th>\n",
       "      <th>1</th>\n",
       "    </tr>\n",
       "  </thead>\n",
       "  <tbody>\n",
       "    <tr>\n",
       "      <th>0</th>\n",
       "      <td>ObjectID</td>\n",
       "      <td>203907</td>\n",
       "    </tr>\n",
       "    <tr>\n",
       "      <th>1</th>\n",
       "      <td>Artist</td>\n",
       "      <td>Severo Calzetta da Ravenna</td>\n",
       "    </tr>\n",
       "    <tr>\n",
       "      <th>2</th>\n",
       "      <td>Title</td>\n",
       "      <td>Saint Christopher</td>\n",
       "    </tr>\n",
       "    <tr>\n",
       "      <th>3</th>\n",
       "      <td>Date</td>\n",
       "      <td>early 16th century</td>\n",
       "    </tr>\n",
       "  </tbody>\n",
       "</table>\n",
       "</div>"
      ],
      "text/plain": [
       "          0                           1\n",
       "0  ObjectID                      203907\n",
       "1    Artist  Severo Calzetta da Ravenna\n",
       "2     Title           Saint Christopher\n",
       "3      Date          early 16th century"
      ]
     },
     "execution_count": 331,
     "metadata": {},
     "output_type": "execute_result"
    }
   ],
   "source": [
    "random_art_finder(q=\"fish\", medium = \"Sculpture\")"
   ]
  },
  {
   "cell_type": "code",
   "execution_count": null,
   "id": "58c574cd",
   "metadata": {},
   "outputs": [],
   "source": []
  }
 ],
 "metadata": {
  "kernelspec": {
   "display_name": "Python 3 (ipykernel)",
   "language": "python",
   "name": "python3"
  },
  "language_info": {
   "codemirror_mode": {
    "name": "ipython",
    "version": 3
   },
   "file_extension": ".py",
   "mimetype": "text/x-python",
   "name": "python",
   "nbconvert_exporter": "python",
   "pygments_lexer": "ipython3",
   "version": "3.11.0"
  }
 },
 "nbformat": 4,
 "nbformat_minor": 5
}
